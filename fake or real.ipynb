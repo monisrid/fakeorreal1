{
 "cells": [
  {
   "cell_type": "code",
   "execution_count": null,
   "id": "b71b446d",
   "metadata": {},
   "outputs": [],
   "source": []
  },
  {
   "cell_type": "code",
   "execution_count": 2,
   "id": "a457244e",
   "metadata": {},
   "outputs": [
    {
     "name": "stdout",
     "output_type": "stream",
     "text": [
      "Collecting numpy\n",
      "  Downloading numpy-1.25.1-cp311-cp311-win_amd64.whl (15.0 MB)\n",
      "                                              0.0/15.0 MB ? eta -:--:--\n",
      "                                              0.3/15.0 MB 6.8 MB/s eta 0:00:03\n",
      "     -                                        0.7/15.0 MB 8.3 MB/s eta 0:00:02\n",
      "     --                                       1.1/15.0 MB 8.8 MB/s eta 0:00:02\n",
      "     ----                                     1.5/15.0 MB 8.9 MB/s eta 0:00:02\n",
      "     -----                                    2.0/15.0 MB 8.9 MB/s eta 0:00:02\n",
      "     ------                                   2.4/15.0 MB 9.0 MB/s eta 0:00:02\n",
      "     -------                                  2.8/15.0 MB 9.0 MB/s eta 0:00:02\n",
      "     --------                                 3.1/15.0 MB 9.1 MB/s eta 0:00:02\n",
      "     --------                                 3.2/15.0 MB 7.9 MB/s eta 0:00:02\n",
      "     ---------                                3.6/15.0 MB 7.9 MB/s eta 0:00:02\n",
      "     ----------                               4.0/15.0 MB 8.2 MB/s eta 0:00:02\n",
      "     -----------                              4.3/15.0 MB 8.1 MB/s eta 0:00:02\n",
      "     ------------                             4.8/15.0 MB 8.2 MB/s eta 0:00:02\n",
      "     -------------                            5.1/15.0 MB 8.1 MB/s eta 0:00:02\n",
      "     --------------                           5.3/15.0 MB 7.9 MB/s eta 0:00:02\n",
      "     ---------------                          5.7/15.0 MB 8.0 MB/s eta 0:00:02\n",
      "     ----------------                         6.0/15.0 MB 7.8 MB/s eta 0:00:02\n",
      "     -----------------                        6.4/15.0 MB 7.9 MB/s eta 0:00:02\n",
      "     -----------------                        6.7/15.0 MB 7.8 MB/s eta 0:00:02\n",
      "     ------------------                       7.1/15.0 MB 7.8 MB/s eta 0:00:02\n",
      "     -------------------                      7.4/15.0 MB 7.7 MB/s eta 0:00:01\n",
      "     --------------------                     7.8/15.0 MB 7.7 MB/s eta 0:00:01\n",
      "     ---------------------                    8.1/15.0 MB 7.6 MB/s eta 0:00:01\n",
      "     ----------------------                   8.4/15.0 MB 7.6 MB/s eta 0:00:01\n",
      "     -----------------------                  8.8/15.0 MB 7.7 MB/s eta 0:00:01\n",
      "     ------------------------                 9.2/15.0 MB 7.7 MB/s eta 0:00:01\n",
      "     -------------------------                9.6/15.0 MB 7.7 MB/s eta 0:00:01\n",
      "     --------------------------               10.0/15.0 MB 7.7 MB/s eta 0:00:01\n",
      "     ---------------------------              10.5/15.0 MB 7.8 MB/s eta 0:00:01\n",
      "     ----------------------------             10.9/15.0 MB 7.7 MB/s eta 0:00:01\n",
      "     -----------------------------            11.3/15.0 MB 7.8 MB/s eta 0:00:01\n",
      "     ------------------------------           11.6/15.0 MB 7.6 MB/s eta 0:00:01\n",
      "     -------------------------------          12.0/15.0 MB 7.7 MB/s eta 0:00:01\n",
      "     --------------------------------         12.4/15.0 MB 7.8 MB/s eta 0:00:01\n",
      "     ----------------------------------       12.8/15.0 MB 7.7 MB/s eta 0:00:01\n",
      "     -----------------------------------      13.3/15.0 MB 7.8 MB/s eta 0:00:01\n",
      "     ------------------------------------     13.7/15.0 MB 8.1 MB/s eta 0:00:01\n",
      "     -------------------------------------    14.1/15.0 MB 8.1 MB/s eta 0:00:01\n",
      "     --------------------------------------   14.5/15.0 MB 8.1 MB/s eta 0:00:01\n",
      "     ---------------------------------------  15.0/15.0 MB 8.0 MB/s eta 0:00:01\n",
      "     ---------------------------------------  15.0/15.0 MB 8.1 MB/s eta 0:00:01\n",
      "     ---------------------------------------- 15.0/15.0 MB 7.7 MB/s eta 0:00:00\n",
      "Installing collected packages: numpy\n",
      "Successfully installed numpy-1.25.1\n"
     ]
    }
   ],
   "source": [
    "!pip install numpy"
   ]
  },
  {
   "cell_type": "code",
   "execution_count": 3,
   "id": "f31bb9bc",
   "metadata": {},
   "outputs": [],
   "source": [
    "import numpy as np\n"
   ]
  },
  {
   "cell_type": "code",
   "execution_count": null,
   "id": "95d349f5",
   "metadata": {},
   "outputs": [],
   "source": []
  },
  {
   "cell_type": "code",
   "execution_count": 5,
   "id": "a730297f",
   "metadata": {},
   "outputs": [
    {
     "name": "stdout",
     "output_type": "stream",
     "text": [
      "Collecting pandas\n",
      "  Downloading pandas-2.0.3-cp311-cp311-win_amd64.whl (10.6 MB)\n",
      "                                              0.0/10.6 MB ? eta -:--:--\n",
      "     -                                        0.4/10.6 MB 7.4 MB/s eta 0:00:02\n",
      "     ---                                      0.8/10.6 MB 10.4 MB/s eta 0:00:01\n",
      "     ----                                     1.2/10.6 MB 9.9 MB/s eta 0:00:01\n",
      "     ------                                   1.7/10.6 MB 9.6 MB/s eta 0:00:01\n",
      "     --------                                 2.1/10.6 MB 9.7 MB/s eta 0:00:01\n",
      "     ---------                                2.6/10.6 MB 9.6 MB/s eta 0:00:01\n",
      "     -----------                              3.0/10.6 MB 9.6 MB/s eta 0:00:01\n",
      "     -------------                            3.5/10.6 MB 9.6 MB/s eta 0:00:01\n",
      "     --------------                           3.9/10.6 MB 9.5 MB/s eta 0:00:01\n",
      "     ----------------                         4.4/10.6 MB 9.6 MB/s eta 0:00:01\n",
      "     -----------------                        4.8/10.6 MB 9.5 MB/s eta 0:00:01\n",
      "     -------------------                      5.2/10.6 MB 9.5 MB/s eta 0:00:01\n",
      "     -------------------                      5.3/10.6 MB 9.4 MB/s eta 0:00:01\n",
      "     ----------------------                   6.0/10.6 MB 9.3 MB/s eta 0:00:01\n",
      "     -----------------------                  6.2/10.6 MB 8.9 MB/s eta 0:00:01\n",
      "     --------------------------               6.9/10.6 MB 9.2 MB/s eta 0:00:01\n",
      "     ---------------------------              7.3/10.6 MB 9.2 MB/s eta 0:00:01\n",
      "     -----------------------------            7.9/10.6 MB 9.3 MB/s eta 0:00:01\n",
      "     -------------------------------          8.3/10.6 MB 9.3 MB/s eta 0:00:01\n",
      "     --------------------------------         8.7/10.6 MB 9.3 MB/s eta 0:00:01\n",
      "     ----------------------------------       9.0/10.6 MB 9.2 MB/s eta 0:00:01\n",
      "     -----------------------------------      9.5/10.6 MB 9.2 MB/s eta 0:00:01\n",
      "     ------------------------------------     9.7/10.6 MB 9.0 MB/s eta 0:00:01\n",
      "     --------------------------------------   10.2/10.6 MB 9.2 MB/s eta 0:00:01\n",
      "     ---------------------------------------  10.6/10.6 MB 9.0 MB/s eta 0:00:01\n",
      "     ---------------------------------------  10.6/10.6 MB 9.1 MB/s eta 0:00:01\n",
      "     ---------------------------------------- 10.6/10.6 MB 8.7 MB/s eta 0:00:00\n",
      "Requirement already satisfied: python-dateutil>=2.8.2 in c:\\users\\lenovo\\appdata\\local\\programs\\python\\python311\\lib\\site-packages (from pandas) (2.8.2)\n",
      "Collecting pytz>=2020.1 (from pandas)\n",
      "  Downloading pytz-2023.3-py2.py3-none-any.whl (502 kB)\n",
      "                                              0.0/502.3 kB ? eta -:--:--\n",
      "     ------------------------------        409.6/502.3 kB 12.9 MB/s eta 0:00:01\n",
      "     ------------------------------------- 502.3/502.3 kB 15.9 MB/s eta 0:00:00\n",
      "Collecting tzdata>=2022.1 (from pandas)\n",
      "  Downloading tzdata-2023.3-py2.py3-none-any.whl (341 kB)\n",
      "                                              0.0/341.8 kB ? eta -:--:--\n",
      "     ------------------------------------- 341.8/341.8 kB 10.7 MB/s eta 0:00:00\n",
      "Requirement already satisfied: numpy>=1.21.0 in c:\\users\\lenovo\\appdata\\local\\programs\\python\\python311\\lib\\site-packages (from pandas) (1.25.1)\n",
      "Requirement already satisfied: six>=1.5 in c:\\users\\lenovo\\appdata\\local\\programs\\python\\python311\\lib\\site-packages (from python-dateutil>=2.8.2->pandas) (1.16.0)\n",
      "Installing collected packages: pytz, tzdata, pandas\n",
      "Successfully installed pandas-2.0.3 pytz-2023.3 tzdata-2023.3\n"
     ]
    }
   ],
   "source": [
    "!pip install pandas\n"
   ]
  },
  {
   "cell_type": "code",
   "execution_count": null,
   "id": "0a11f41f",
   "metadata": {},
   "outputs": [],
   "source": []
  },
  {
   "cell_type": "code",
   "execution_count": 7,
   "id": "b8b1384d",
   "metadata": {},
   "outputs": [
    {
     "name": "stdout",
     "output_type": "stream",
     "text": [
      "Collecting scikit-learn\n",
      "  Downloading scikit_learn-1.3.0-cp311-cp311-win_amd64.whl (9.2 MB)\n",
      "                                              0.0/9.2 MB ? eta -:--:--\n",
      "     -                                        0.4/9.2 MB 7.6 MB/s eta 0:00:02\n",
      "     --                                       0.7/9.2 MB 8.4 MB/s eta 0:00:02\n",
      "     ----                                     1.1/9.2 MB 8.9 MB/s eta 0:00:01\n",
      "     -------                                  1.6/9.2 MB 9.3 MB/s eta 0:00:01\n",
      "     --------                                 2.1/9.2 MB 9.4 MB/s eta 0:00:01\n",
      "     ----------                               2.4/9.2 MB 9.2 MB/s eta 0:00:01\n",
      "     ------------                             2.9/9.2 MB 9.2 MB/s eta 0:00:01\n",
      "     --------------                           3.3/9.2 MB 9.2 MB/s eta 0:00:01\n",
      "     ----------------                         3.7/9.2 MB 9.2 MB/s eta 0:00:01\n",
      "     ------------------                       4.2/9.2 MB 9.3 MB/s eta 0:00:01\n",
      "     ------------------                       4.4/9.2 MB 9.3 MB/s eta 0:00:01\n",
      "     ---------------------                    4.9/9.2 MB 8.9 MB/s eta 0:00:01\n",
      "     -----------------------                  5.3/9.2 MB 8.9 MB/s eta 0:00:01\n",
      "     -------------------------                5.9/9.2 MB 9.2 MB/s eta 0:00:01\n",
      "     ---------------------------              6.3/9.2 MB 9.2 MB/s eta 0:00:01\n",
      "     -----------------------------            6.9/9.2 MB 9.3 MB/s eta 0:00:01\n",
      "     -------------------------------          7.2/9.2 MB 9.2 MB/s eta 0:00:01\n",
      "     ---------------------------------        7.8/9.2 MB 9.4 MB/s eta 0:00:01\n",
      "     -----------------------------------      8.0/9.2 MB 9.2 MB/s eta 0:00:01\n",
      "     ------------------------------------     8.3/9.2 MB 9.2 MB/s eta 0:00:01\n",
      "     -------------------------------------    8.6/9.2 MB 9.2 MB/s eta 0:00:01\n",
      "     --------------------------------------   8.9/9.2 MB 8.9 MB/s eta 0:00:01\n",
      "     ---------------------------------------  9.2/9.2 MB 8.9 MB/s eta 0:00:01\n",
      "     ---------------------------------------- 9.2/9.2 MB 8.5 MB/s eta 0:00:00\n",
      "Requirement already satisfied: numpy>=1.17.3 in c:\\users\\lenovo\\appdata\\local\\programs\\python\\python311\\lib\\site-packages (from scikit-learn) (1.25.1)\n",
      "Collecting scipy>=1.5.0 (from scikit-learn)\n",
      "  Downloading scipy-1.11.1-cp311-cp311-win_amd64.whl (44.0 MB)\n",
      "                                              0.0/44.0 MB ? eta -:--:--\n",
      "                                              0.3/44.0 MB 10.6 MB/s eta 0:00:05\n",
      "                                              0.8/44.0 MB 9.6 MB/s eta 0:00:05\n",
      "     -                                        1.2/44.0 MB 10.9 MB/s eta 0:00:04\n",
      "     -                                        1.6/44.0 MB 9.6 MB/s eta 0:00:05\n",
      "     -                                        2.1/44.0 MB 9.6 MB/s eta 0:00:05\n",
      "     --                                       2.5/44.0 MB 9.5 MB/s eta 0:00:05\n",
      "     --                                       3.0/44.0 MB 9.5 MB/s eta 0:00:05\n",
      "     ---                                      3.4/44.0 MB 9.6 MB/s eta 0:00:05\n",
      "     ---                                      3.9/44.0 MB 9.5 MB/s eta 0:00:05\n",
      "     ---                                      4.3/44.0 MB 9.7 MB/s eta 0:00:05\n",
      "     ----                                     4.7/44.0 MB 9.4 MB/s eta 0:00:05\n",
      "     ----                                     5.1/44.0 MB 9.4 MB/s eta 0:00:05\n",
      "     -----                                    5.6/44.0 MB 9.4 MB/s eta 0:00:05\n",
      "     -----                                    6.0/44.0 MB 9.4 MB/s eta 0:00:05\n",
      "     -----                                    6.5/44.0 MB 9.6 MB/s eta 0:00:04\n",
      "     ------                                   7.0/44.0 MB 9.7 MB/s eta 0:00:04\n",
      "     ------                                   7.5/44.0 MB 9.6 MB/s eta 0:00:04\n",
      "     -------                                  8.0/44.0 MB 9.6 MB/s eta 0:00:04\n",
      "     -------                                  8.4/44.0 MB 9.8 MB/s eta 0:00:04\n",
      "     --------                                 8.9/44.0 MB 9.9 MB/s eta 0:00:04\n",
      "     --------                                 9.4/44.0 MB 9.8 MB/s eta 0:00:04\n",
      "     --------                                10.0/44.0 MB 10.0 MB/s eta 0:00:04\n",
      "     ---------                                10.5/44.0 MB 9.9 MB/s eta 0:00:04\n",
      "     ----------                               11.0/44.0 MB 9.9 MB/s eta 0:00:04\n",
      "     ----------                               11.5/44.0 MB 9.9 MB/s eta 0:00:04\n",
      "     ----------                              12.1/44.0 MB 10.1 MB/s eta 0:00:04\n",
      "     -----------                             12.6/44.0 MB 10.2 MB/s eta 0:00:04\n",
      "     -----------                             13.1/44.0 MB 10.2 MB/s eta 0:00:04\n",
      "     ------------                            13.6/44.0 MB 10.2 MB/s eta 0:00:03\n",
      "     ------------                            14.1/44.0 MB 10.4 MB/s eta 0:00:03\n",
      "     -------------                           14.7/44.0 MB 10.4 MB/s eta 0:00:03\n",
      "     -------------                           15.2/44.0 MB 10.6 MB/s eta 0:00:03\n",
      "     --------------                          15.8/44.0 MB 10.9 MB/s eta 0:00:03\n",
      "     --------------                          16.2/44.0 MB 10.7 MB/s eta 0:00:03\n",
      "     --------------                          16.7/44.0 MB 10.7 MB/s eta 0:00:03\n",
      "     ---------------                         17.1/44.0 MB 10.9 MB/s eta 0:00:03\n",
      "     ---------------                         17.7/44.0 MB 10.7 MB/s eta 0:00:03\n",
      "     ----------------                        18.1/44.0 MB 10.7 MB/s eta 0:00:03\n",
      "     ----------------                        18.6/44.0 MB 10.7 MB/s eta 0:00:03\n",
      "     ----------------                        19.1/44.0 MB 10.7 MB/s eta 0:00:03\n",
      "     -----------------                       19.7/44.0 MB 10.9 MB/s eta 0:00:03\n",
      "     -----------------                       20.2/44.0 MB 10.7 MB/s eta 0:00:03\n",
      "     ------------------                      20.6/44.0 MB 10.6 MB/s eta 0:00:03\n",
      "     ------------------                      21.1/44.0 MB 10.6 MB/s eta 0:00:03\n",
      "     -------------------                     21.6/44.0 MB 10.7 MB/s eta 0:00:03\n",
      "     -------------------                     22.1/44.0 MB 10.7 MB/s eta 0:00:03\n",
      "     --------------------                    22.7/44.0 MB 10.7 MB/s eta 0:00:02\n",
      "     --------------------                    23.2/44.0 MB 10.7 MB/s eta 0:00:02\n",
      "     ---------------------                   23.7/44.0 MB 10.7 MB/s eta 0:00:02\n",
      "     ---------------------                   24.2/44.0 MB 10.7 MB/s eta 0:00:02\n",
      "     ---------------------                   24.8/44.0 MB 10.9 MB/s eta 0:00:02\n",
      "     ----------------------                  25.3/44.0 MB 10.9 MB/s eta 0:00:02\n",
      "     ----------------------                  25.8/44.0 MB 10.9 MB/s eta 0:00:02\n",
      "     -----------------------                 26.4/44.0 MB 10.9 MB/s eta 0:00:02\n",
      "     -----------------------                 27.0/44.0 MB 10.7 MB/s eta 0:00:02\n",
      "     ------------------------                27.4/44.0 MB 10.9 MB/s eta 0:00:02\n",
      "     ------------------------                28.0/44.0 MB 11.1 MB/s eta 0:00:02\n",
      "     -------------------------               28.5/44.0 MB 11.1 MB/s eta 0:00:02\n",
      "     -------------------------               29.0/44.0 MB 11.3 MB/s eta 0:00:02\n",
      "     --------------------------              29.6/44.0 MB 11.1 MB/s eta 0:00:02\n",
      "     --------------------------              30.0/44.0 MB 11.1 MB/s eta 0:00:02\n",
      "     ---------------------------             30.5/44.0 MB 11.1 MB/s eta 0:00:02\n",
      "     ---------------------------             31.1/44.0 MB 11.3 MB/s eta 0:00:02\n",
      "     ----------------------------            31.7/44.0 MB 11.3 MB/s eta 0:00:02\n",
      "     ----------------------------            32.2/44.0 MB 11.3 MB/s eta 0:00:02\n",
      "     -----------------------------           32.7/44.0 MB 11.1 MB/s eta 0:00:02\n",
      "     -----------------------------           33.2/44.0 MB 11.3 MB/s eta 0:00:01\n",
      "     -----------------------------           33.5/44.0 MB 11.1 MB/s eta 0:00:01\n",
      "     -----------------------------           33.7/44.0 MB 10.7 MB/s eta 0:00:01\n",
      "     ------------------------------          34.3/44.0 MB 10.6 MB/s eta 0:00:01\n",
      "     ------------------------------          34.9/44.0 MB 10.7 MB/s eta 0:00:01\n",
      "     -------------------------------         35.4/44.0 MB 10.6 MB/s eta 0:00:01\n",
      "     -------------------------------         35.7/44.0 MB 10.7 MB/s eta 0:00:01\n",
      "     --------------------------------        36.5/44.0 MB 10.9 MB/s eta 0:00:01\n",
      "     --------------------------------        37.0/44.0 MB 10.7 MB/s eta 0:00:01\n",
      "     ---------------------------------       37.6/44.0 MB 10.9 MB/s eta 0:00:01\n",
      "     ---------------------------------       38.1/44.0 MB 10.7 MB/s eta 0:00:01\n",
      "     ----------------------------------      38.6/44.0 MB 10.7 MB/s eta 0:00:01\n",
      "     ----------------------------------      39.0/44.0 MB 10.7 MB/s eta 0:00:01\n",
      "     -----------------------------------     39.5/44.0 MB 10.6 MB/s eta 0:00:01\n",
      "     -----------------------------------     40.1/44.0 MB 10.9 MB/s eta 0:00:01\n",
      "     ------------------------------------    40.6/44.0 MB 10.7 MB/s eta 0:00:01\n",
      "     ------------------------------------    41.2/44.0 MB 10.6 MB/s eta 0:00:01\n",
      "     -------------------------------------   41.7/44.0 MB 10.9 MB/s eta 0:00:01\n",
      "     -------------------------------------   42.3/44.0 MB 10.6 MB/s eta 0:00:01\n",
      "     -------------------------------------   42.8/44.0 MB 10.7 MB/s eta 0:00:01\n",
      "     --------------------------------------  43.3/44.0 MB 10.9 MB/s eta 0:00:01\n",
      "     --------------------------------------  43.7/44.0 MB 10.7 MB/s eta 0:00:01\n",
      "     --------------------------------------  44.0/44.0 MB 11.1 MB/s eta 0:00:01\n",
      "     --------------------------------------  44.0/44.0 MB 11.1 MB/s eta 0:00:01\n",
      "     --------------------------------------  44.0/44.0 MB 11.1 MB/s eta 0:00:01\n",
      "     ---------------------------------------- 44.0/44.0 MB 9.3 MB/s eta 0:00:00\n",
      "Collecting joblib>=1.1.1 (from scikit-learn)\n",
      "  Downloading joblib-1.3.1-py3-none-any.whl (301 kB)\n",
      "                                              0.0/302.0 kB ? eta -:--:--\n",
      "     -------------------------------------- 302.0/302.0 kB 9.4 MB/s eta 0:00:00\n",
      "Collecting threadpoolctl>=2.0.0 (from scikit-learn)\n",
      "  Downloading threadpoolctl-3.2.0-py3-none-any.whl (15 kB)\n",
      "Installing collected packages: threadpoolctl, scipy, joblib, scikit-learn\n",
      "Successfully installed joblib-1.3.1 scikit-learn-1.3.0 scipy-1.11.1 threadpoolctl-3.2.0\n"
     ]
    }
   ],
   "source": [
    "!pip install scikit-learn"
   ]
  },
  {
   "cell_type": "code",
   "execution_count": 8,
   "id": "965be25c",
   "metadata": {},
   "outputs": [],
   "source": [
    "import numpy as np\n",
    "import pandas as pd\n",
    "import itertools\n",
    "from sklearn.model_selection import train_test_split\n",
    "from sklearn.feature_extraction.text import TfidfVectorizer\n",
    "from sklearn.linear_model import PassiveAggressiveClassifier\n",
    "from sklearn.metrics import accuracy_score, confusion_matrix"
   ]
  },
  {
   "cell_type": "code",
   "execution_count": null,
   "id": "c1ef5937",
   "metadata": {},
   "outputs": [],
   "source": []
  },
  {
   "cell_type": "code",
   "execution_count": 10,
   "id": "7e7a6059",
   "metadata": {},
   "outputs": [
    {
     "data": {
      "text/html": [
       "<div>\n",
       "<style scoped>\n",
       "    .dataframe tbody tr th:only-of-type {\n",
       "        vertical-align: middle;\n",
       "    }\n",
       "\n",
       "    .dataframe tbody tr th {\n",
       "        vertical-align: top;\n",
       "    }\n",
       "\n",
       "    .dataframe thead th {\n",
       "        text-align: right;\n",
       "    }\n",
       "</style>\n",
       "<table border=\"1\" class=\"dataframe\">\n",
       "  <thead>\n",
       "    <tr style=\"text-align: right;\">\n",
       "      <th></th>\n",
       "      <th>Unnamed: 0</th>\n",
       "      <th>title</th>\n",
       "      <th>text</th>\n",
       "      <th>label</th>\n",
       "    </tr>\n",
       "  </thead>\n",
       "  <tbody>\n",
       "    <tr>\n",
       "      <th>0</th>\n",
       "      <td>8476</td>\n",
       "      <td>You Can Smell Hillary’s Fear</td>\n",
       "      <td>Daniel Greenfield, a Shillman Journalism Fello...</td>\n",
       "      <td>FAKE</td>\n",
       "    </tr>\n",
       "    <tr>\n",
       "      <th>1</th>\n",
       "      <td>10294</td>\n",
       "      <td>Watch The Exact Moment Paul Ryan Committed Pol...</td>\n",
       "      <td>Google Pinterest Digg Linkedin Reddit Stumbleu...</td>\n",
       "      <td>FAKE</td>\n",
       "    </tr>\n",
       "    <tr>\n",
       "      <th>2</th>\n",
       "      <td>3608</td>\n",
       "      <td>Kerry to go to Paris in gesture of sympathy</td>\n",
       "      <td>U.S. Secretary of State John F. Kerry said Mon...</td>\n",
       "      <td>REAL</td>\n",
       "    </tr>\n",
       "    <tr>\n",
       "      <th>3</th>\n",
       "      <td>10142</td>\n",
       "      <td>Bernie supporters on Twitter erupt in anger ag...</td>\n",
       "      <td>— Kaydee King (@KaydeeKing) November 9, 2016 T...</td>\n",
       "      <td>FAKE</td>\n",
       "    </tr>\n",
       "    <tr>\n",
       "      <th>4</th>\n",
       "      <td>875</td>\n",
       "      <td>The Battle of New York: Why This Primary Matters</td>\n",
       "      <td>It's primary day in New York and front-runners...</td>\n",
       "      <td>REAL</td>\n",
       "    </tr>\n",
       "  </tbody>\n",
       "</table>\n",
       "</div>"
      ],
      "text/plain": [
       "   Unnamed: 0                                              title  \\\n",
       "0        8476                       You Can Smell Hillary’s Fear   \n",
       "1       10294  Watch The Exact Moment Paul Ryan Committed Pol...   \n",
       "2        3608        Kerry to go to Paris in gesture of sympathy   \n",
       "3       10142  Bernie supporters on Twitter erupt in anger ag...   \n",
       "4         875   The Battle of New York: Why This Primary Matters   \n",
       "\n",
       "                                                text label  \n",
       "0  Daniel Greenfield, a Shillman Journalism Fello...  FAKE  \n",
       "1  Google Pinterest Digg Linkedin Reddit Stumbleu...  FAKE  \n",
       "2  U.S. Secretary of State John F. Kerry said Mon...  REAL  \n",
       "3  — Kaydee King (@KaydeeKing) November 9, 2016 T...  FAKE  \n",
       "4  It's primary day in New York and front-runners...  REAL  "
      ]
     },
     "execution_count": 10,
     "metadata": {},
     "output_type": "execute_result"
    }
   ],
   "source": [
    "#Read the data\n",
    "df=pd.read_csv('news.csv')\n",
    "\n",
    "#Get shape and head\n",
    "df.shape\n",
    "df.head()"
   ]
  },
  {
   "cell_type": "code",
   "execution_count": 11,
   "id": "68b1f8ac",
   "metadata": {},
   "outputs": [
    {
     "data": {
      "text/plain": [
       "0    FAKE\n",
       "1    FAKE\n",
       "2    REAL\n",
       "3    FAKE\n",
       "4    REAL\n",
       "Name: label, dtype: object"
      ]
     },
     "execution_count": 11,
     "metadata": {},
     "output_type": "execute_result"
    }
   ],
   "source": [
    "#DataFlair - Get the labels\n",
    "labels=df.label\n",
    "labels.head()"
   ]
  },
  {
   "cell_type": "code",
   "execution_count": 12,
   "id": "f5d211c6",
   "metadata": {},
   "outputs": [],
   "source": [
    "#DataFlair - Split the dataset\n",
    "x_train,x_test,y_train,y_test=train_test_split(df['text'], labels, test_size=0.2, random_state=7)"
   ]
  },
  {
   "cell_type": "code",
   "execution_count": 13,
   "id": "8a147744",
   "metadata": {},
   "outputs": [],
   "source": [
    "#DataFlair - Initialize a TfidfVectorizer\n",
    "tfidf_vectorizer=TfidfVectorizer(stop_words='english', max_df=0.7)\n",
    "\n",
    "#DataFlair - Fit and transform train set, transform test set\n",
    "tfidf_train=tfidf_vectorizer.fit_transform(x_train) \n",
    "tfidf_test=tfidf_vectorizer.transform(x_test)"
   ]
  },
  {
   "cell_type": "code",
   "execution_count": 14,
   "id": "e4a7493c",
   "metadata": {},
   "outputs": [
    {
     "name": "stdout",
     "output_type": "stream",
     "text": [
      "Accuracy: 92.9%\n"
     ]
    }
   ],
   "source": [
    "#DataFlair - Initialize a PassiveAggressiveClassifier\n",
    "pac=PassiveAggressiveClassifier(max_iter=50)\n",
    "pac.fit(tfidf_train,y_train)\n",
    "\n",
    "#DataFlair - Predict on the test set and calculate accuracy\n",
    "y_pred=pac.predict(tfidf_test)\n",
    "score=accuracy_score(y_test,y_pred)\n",
    "print(f'Accuracy: {round(score*100,2)}%')"
   ]
  },
  {
   "cell_type": "code",
   "execution_count": 15,
   "id": "148f59c8",
   "metadata": {},
   "outputs": [
    {
     "data": {
      "text/plain": [
       "array([[589,  49],\n",
       "       [ 41, 588]], dtype=int64)"
      ]
     },
     "execution_count": 15,
     "metadata": {},
     "output_type": "execute_result"
    }
   ],
   "source": [
    "#DataFlair - Build confusion matrix\n",
    "confusion_matrix(y_test,y_pred, labels=['FAKE','REAL'])"
   ]
  },
  {
   "cell_type": "code",
   "execution_count": null,
   "id": "b0b9811d",
   "metadata": {},
   "outputs": [],
   "source": []
  },
  {
   "cell_type": "code",
   "execution_count": null,
   "id": "052fcd45",
   "metadata": {},
   "outputs": [],
   "source": [
    "\n"
   ]
  },
  {
   "cell_type": "code",
   "execution_count": null,
   "id": "d14cc84d",
   "metadata": {},
   "outputs": [],
   "source": [
    "  "
   ]
  }
 ],
 "metadata": {
  "kernelspec": {
   "display_name": "Python 3 (ipykernel)",
   "language": "python",
   "name": "python3"
  },
  "language_info": {
   "codemirror_mode": {
    "name": "ipython",
    "version": 3
   },
   "file_extension": ".py",
   "mimetype": "text/x-python",
   "name": "python",
   "nbconvert_exporter": "python",
   "pygments_lexer": "ipython3",
   "version": "3.11.4"
  }
 },
 "nbformat": 4,
 "nbformat_minor": 5
}
